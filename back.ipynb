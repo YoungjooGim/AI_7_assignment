{
 "cells": [
  {
   "cell_type": "code",
   "execution_count": null,
   "id": "99a4b6ff",
   "metadata": {},
   "outputs": [],
   "source": [
    "import pandas as pd\n",
    "import numpy as np"
   ]
  },
  {
   "cell_type": "code",
   "execution_count": null,
   "id": "dc629c9b",
   "metadata": {},
   "outputs": [],
   "source": [
    "df = pd.read_csv('pill_db_after_preprocessing.csv')\n",
    "df.drop(df.columns[[0, 1]], axis=1, inplace=True)\n",
    "df.dropna(axis=0, inplace=True)\n",
    "\n",
    "pill_list = df['ITEM_NAME'].values.tolist()\n",
    "\n",
    "KEYWORDS = {0:['이름'],\n",
    "            1:['회사', '제조사'],\n",
    "            2:['종류', '분류'],\n",
    "            3:['보관']}"
   ]
  },
  {
   "cell_type": "code",
   "execution_count": null,
   "id": "455f6155",
   "metadata": {},
   "outputs": [],
   "source": [
    "# 약 이름에 따라 알맞는 row index를 반환\n",
    "def getRIndex(pill):\n",
    "    return df.index[df['ITEM_NAME'] == pill][0]\n",
    "\n",
    "# 제시된 키워드에 따라 알맞는 column index를 반환\n",
    "def getCIndex(keyword):\n",
    "    for k, v in KEYWORDS.items():\n",
    "        if keyword in v:\n",
    "            return k\n",
    "    return -1\n",
    "\n",
    "# 약 이름과 키워드에 따라 알맞는 data를 반환\n",
    "def getData(pill, keyword):\n",
    "    ridx = getRIndex(pill)\n",
    "    cidx = getCIndex(keyword)\n",
    "    return df.iat[ridx, cidx]"
   ]
  },
  {
   "cell_type": "code",
   "execution_count": null,
   "id": "1a149991",
   "metadata": {},
   "outputs": [],
   "source": [
    "# 입력 텍스트에 응답 키워드가 들어있는지 확인하여 키워드를 반환\n",
    "# Return -1 for 키워드 없음\n",
    "# Return 0 for 키워드 다수\n",
    "# Return 키워드 for 키워드 하나\n",
    "def text2key(text):\n",
    "    cnt = 0\n",
    "    words = []\n",
    "    for k, v in KEYWORDS.items():\n",
    "        for keyword in v:\n",
    "            if keyword in text:\n",
    "                cnt += 1\n",
    "                words.append(keyword)\n",
    "                break\n",
    "    \n",
    "    if cnt == 0:\n",
    "        return -1\n",
    "    if cnt == 1:\n",
    "        return words[0]\n",
    "    return 0\n",
    "\n",
    "# 입력 텍스트에 약 이름이 들어있는지 확인하여 약 이름을 반환\n",
    "# Return -1 for 약 이름 없음\n",
    "# Return 0 for 약 이름 다수\n",
    "# Return 약 이름 for 약 이름 하나\n",
    "def text2pill(text):\n",
    "    cnt = 0\n",
    "    pills = []\n",
    "    for item in pill_list:\n",
    "        if item in text:\n",
    "            cnt += 1\n",
    "            pills.append(item)\n",
    "    \n",
    "    if cnt == 0:\n",
    "        return -1\n",
    "    if cnt == 1:\n",
    "        return pills[0]\n",
    "    return 0\n",
    "\n",
    "def respond(text):\n",
    "    keyword = text2key(text)\n",
    "    pill = text2pill(text)\n",
    "    if (keyword == -1 or pill == -1):\n",
    "        res = \"무슨 말인지 모르겠어요.\"\n",
    "        return res\n",
    "    elif (keyword == 0 or pill == 0):\n",
    "        res = \"한 번에 하나씩 질문해 주세요.\"\n",
    "        return res\n",
    "    else:\n",
    "        return getData(pill, keyword)\n",
    "\n",
    "text1 = '안녕하세요, 슬카인정의 보관은 어떻게 하나요?'\n",
    "text2 = '슬카인정 보관방법'\n",
    "text3 = '안녕하세요'\n",
    "text4 = '슬카인정 보관방법 제조사'\n",
    "\n",
    "print(respond(text1))\n",
    "print(respond(text2))\n",
    "print(respond(text3))\n",
    "print(respond(text4))"
   ]
  }
 ],
 "metadata": {
  "kernelspec": {
   "display_name": "Python 3.10.4 64-bit",
   "language": "python",
   "name": "python3"
  },
  "language_info": {
   "codemirror_mode": {
    "name": "ipython",
    "version": 3
   },
   "file_extension": ".py",
   "mimetype": "text/x-python",
   "name": "python",
   "nbconvert_exporter": "python",
   "pygments_lexer": "ipython3",
   "version": "3.10.4"
  },
  "vscode": {
   "interpreter": {
    "hash": "5a58c942b0f2dee13ee47bc74b764047c4071295ea589a29b37ee0fe6b47071d"
   }
  }
 },
 "nbformat": 4,
 "nbformat_minor": 5
}
